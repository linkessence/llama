{
 "cells": [
  {
   "cell_type": "markdown",
   "id": "4422ab6f-bbd2-4fc0-82bd-332ae6ca3f94",
   "metadata": {},
   "source": [
    "# LLama2 chat example"
   ]
  },
  {
   "cell_type": "code",
   "execution_count": 1,
   "id": "c0c8458c-0ca1-4898-a107-9998c523f4f0",
   "metadata": {},
   "outputs": [],
   "source": [
    "from llama import ModelArgs, Tokenizer\n",
    "from model_local import Transformer\n",
    "from llama_local import Llama\n",
    "\n",
    "from pathlib import Path\n",
    "\n",
    "import torch\n",
    "import time\n",
    "import json"
   ]
  },
  {
   "cell_type": "code",
   "execution_count": 2,
   "id": "9e11b767-aebd-4895-bb5b-ebf637201e36",
   "metadata": {},
   "outputs": [],
   "source": [
    "def load(ckpt_dir: str,\n",
    "         tokenizer_path: str,\n",
    "         max_seq_len: int,\n",
    "         max_batch_size: int) -> Llama:\n",
    "    \n",
    "    print(\"Locating checkpoints.\")\n",
    "    checkpoints = sorted(Path(ckpt_dir).glob(\"*.pth\"))\n",
    "\n",
    "    assert(\n",
    "        len(checkpoints) == 1\n",
    "    ), f\"Failed to load.  Only 7B model with 1 checkpoint is supported. But len(checkpoint) is {len(checkpoints)}.\"\n",
    "    \n",
    "    print(\"Loading checkpoint into memory... \", end=\"\")\n",
    "    _start_time = time.time()\n",
    "    checkpoint = torch.load(checkpoints[0], map_location=\"cpu\")\n",
    "    print(f\"done in {time.time() - _start_time:.2f} seconds.\")\n",
    "    \n",
    "    print(\"Grabbing params...\")\n",
    "    with open(Path(ckpt_dir) / \"params.json\", \"r\") as f:\n",
    "        params = json.loads(f.read())\n",
    "        \n",
    "    print(\"Loading model arguments...\")\n",
    "    model_args = ModelArgs(max_seq_len=max_seq_len, max_batch_size=max_batch_size, **params)\n",
    "    \n",
    "    \n",
    "    print(\"Creating tokenizer...\")\n",
    "    tokenizer = Tokenizer(model_path=tokenizer_path)\n",
    "    model_args.vocab_size = tokenizer.n_words\n",
    "    print(f\"model_args: {model_args}.\")\n",
    "    \n",
    "    print(\"Creating transformer... \", end=\"\")\n",
    "    _start_time = time.time()\n",
    "    model = Transformer(model_args)\n",
    "    print(f\"done in {time.time() - _start_time:.2f} seconds.\")\n",
    "    \n",
    "    print(\"Loading checkpoint to model... \", end=\"\")\n",
    "    _start_time = time.time()\n",
    "    model.load_state_dict(checkpoint, strict=False)\n",
    "    print(f\"done in {time.time() - _start_time:.2f} seconds.\")\n",
    "    \n",
    "    print(\"Creating LLaMA generator...\")\n",
    "    generator = Llama(model, tokenizer)\n",
    "    \n",
    "        \n",
    "    return generator"
   ]
  },
  {
   "cell_type": "code",
   "execution_count": 3,
   "id": "41a3b36f-04da-4174-85a3-832eecf02995",
   "metadata": {},
   "outputs": [
    {
     "name": "stdout",
     "output_type": "stream",
     "text": [
      "Locating checkpoints.\n",
      "Loading checkpoint into memory... done in 4.95 seconds.\n",
      "Grabbing params...\n",
      "Loading model arguments...\n",
      "Creating tokenizer...\n",
      "model_args: ModelArgs(dim=4096, n_layers=32, n_heads=32, n_kv_heads=None, vocab_size=32000, multiple_of=256, ffn_dim_multiplier=None, norm_eps=1e-06, max_batch_size=4, max_seq_len=1024).\n",
      "Creating transformer... done in 28.31 seconds.\n",
      "Loading checkpoint to model... done in 2.88 seconds.\n",
      "Creating LLaMA generator...\n"
     ]
    }
   ],
   "source": [
    "ckpt_dir = \"../llama-2-7b-chat\"\n",
    "tokenizer_path = \"../tokenizer.model\"\n",
    "max_seq_len = 1024\n",
    "max_batch_size = 4\n",
    "\n",
    "generator = load(ckpt_dir, tokenizer_path, max_seq_len, max_batch_size)\n"
   ]
  },
  {
   "cell_type": "code",
   "execution_count": 4,
   "id": "4c837ee8-07dd-43d7-9619-19c6cd16f9d8",
   "metadata": {},
   "outputs": [],
   "source": [
    "temperature: float = 0.6\n",
    "top_p: float = 0.9"
   ]
  },
  {
   "cell_type": "code",
   "execution_count": 5,
   "id": "f47d7187-c16e-4b11-ac1a-183acd41df2f",
   "metadata": {
    "tags": []
   },
   "outputs": [],
   "source": [
    "dialogs = [\n",
    "        [{\"role\": \"user\", \"content\": \"what is the recipe of mayonnaise?\"}],\n",
    "        [\n",
    "            {\"role\": \"user\", \"content\": \"I am going to Paris, what should I see?\"},\n",
    "            {\n",
    "                \"role\": \"assistant\",\n",
    "                \"content\": \"\"\"\\\n",
    "Paris, the capital of France, is known for its stunning architecture, art museums, historical landmarks, and romantic atmosphere. Here are some of the top attractions to see in Paris:\n",
    "\n",
    "1. The Eiffel Tower: The iconic Eiffel Tower is one of the most recognizable landmarks in the world and offers breathtaking views of the city.\n",
    "2. The Louvre Museum: The Louvre is one of the world's largest and most famous museums, housing an impressive collection of art and artifacts, including the Mona Lisa.\n",
    "3. Notre-Dame Cathedral: This beautiful cathedral is one of the most famous landmarks in Paris and is known for its Gothic architecture and stunning stained glass windows.\n",
    "\n",
    "These are just a few of the many attractions that Paris has to offer. With so much to see and do, it's no wonder that Paris is one of the most popular tourist destinations in the world.\"\"\",\n",
    "            },\n",
    "            {\"role\": \"user\", \"content\": \"What is so great about #1?\"},\n",
    "        ],\n",
    "        [\n",
    "            {\"role\": \"system\", \"content\": \"Always answer with Haiku\"},\n",
    "            {\"role\": \"user\", \"content\": \"I am going to Paris, what should I see?\"},\n",
    "        ],\n",
    "        [\n",
    "            {\n",
    "                \"role\": \"system\",\n",
    "                \"content\": \"Always answer with emojis\",\n",
    "            },\n",
    "            {\"role\": \"user\", \"content\": \"How to go from Beijing to NY?\"},\n",
    "        ],\n",
    "    ]"
   ]
  },
  {
   "cell_type": "code",
   "execution_count": null,
   "id": "3a55299c-c75c-41b6-bc81-2640de60be11",
   "metadata": {
    "tags": []
   },
   "outputs": [],
   "source": [
    "results = generator.chat_completion(\n",
    "        dialogs,  # type: ignore\n",
    "        max_gen_len=None,\n",
    "        temperature=temperature,\n",
    "        top_p=top_p,\n",
    "    )"
   ]
  },
  {
   "cell_type": "code",
   "execution_count": null,
   "id": "1d565fd3-54e1-454d-a8a2-02ece56cf9bf",
   "metadata": {},
   "outputs": [],
   "source": [
    "from llama.generation import sample_top_p"
   ]
  },
  {
   "cell_type": "code",
   "execution_count": null,
   "id": "d428b44c-1c5a-47f2-b6b8-d03f8eba181a",
   "metadata": {
    "tags": []
   },
   "outputs": [],
   "source": [
    "sample_top_p"
   ]
  },
  {
   "cell_type": "code",
   "execution_count": null,
   "id": "b08a3b40-4a2b-40a7-b907-9ad4cfd11904",
   "metadata": {},
   "outputs": [],
   "source": []
  }
 ],
 "metadata": {
  "kernelspec": {
   "display_name": "Python 3 (ipykernel)",
   "language": "python",
   "name": "python3"
  },
  "language_info": {
   "codemirror_mode": {
    "name": "ipython",
    "version": 3
   },
   "file_extension": ".py",
   "mimetype": "text/x-python",
   "name": "python",
   "nbconvert_exporter": "python",
   "pygments_lexer": "ipython3",
   "version": "3.11.4"
  }
 },
 "nbformat": 4,
 "nbformat_minor": 5
}
